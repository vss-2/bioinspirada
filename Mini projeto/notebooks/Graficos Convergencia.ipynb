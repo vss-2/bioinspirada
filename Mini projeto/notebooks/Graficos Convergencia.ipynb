{
 "cells": [
  {
   "cell_type": "code",
   "execution_count": 1,
   "metadata": {},
   "outputs": [],
   "source": [
    "from scipy.stats import shapiro, ttest_ind, ttest_rel\n",
    "from seaborn import histplot\n",
    "from itertools import combinations\n",
    "from numpy import mean, std\n",
    "import matplotlib.pyplot as plt"
   ]
  },
  {
   "cell_type": "code",
   "execution_count": 2,
   "metadata": {},
   "outputs": [],
   "source": [
    "default = [777, 377, 904, 446, 685, 674, 446, 667, 536, 476, 738, 595, 582, 1057, 616, 731, 633, 519, 760, 882, 675, 681, 595, 651, 726, 695, 529, 563, 992, 746, 681, 555, 763, 622, 645, 480, 570, 680, 981, 611, 280, 781, 759, 401, 628, 840, 743, 518, 912, 725]\n",
    "cx = [464, 346, 229, 275, 432, 550, 421, 512, 600, 695, 606, 630, 281, 551, 208, 704, 579, 380, 324, 773, 355, 477, 599, 449, 637, 597, 236, 501, 453, 680, 281, 382, 364, 529, 434, 596, 719, 383, 469, 571, 446, 864, 374, 339, 424, 362, 423, 633, 525, 471]\n",
    "pmx = [995, 355, 575, 700, 484, 824, 842, 1125, 370, 873, 690, 751, 526, 800, 430, 879, 771, 549, 799, 693, 739, 847, 912, 669, 831, 835, 861, 830, 747, 781, 658, 772, 698, 656, 638, 592, 940, 811, 856, 860, 1147, 863, 617, 502, 652, 413, 722, 708, 692, 551]"
   ]
  },
  {
   "cell_type": "code",
   "execution_count": 3,
   "metadata": {},
   "outputs": [
    {
     "name": "stdout",
     "output_type": "stream",
     "text": [
      "662.58\n",
      "482.66\n",
      "728.62\n"
     ]
    }
   ],
   "source": [
    "print(mean(default))\n",
    "print(mean(cx))\n",
    "print(mean(pmx))"
   ]
  },
  {
   "cell_type": "code",
   "execution_count": 4,
   "metadata": {},
   "outputs": [
    {
     "name": "stdout",
     "output_type": "stream",
     "text": [
      "157.76604070585026\n",
      "147.19383275123994\n",
      "170.18823578614357\n"
     ]
    }
   ],
   "source": [
    "print(std(default))\n",
    "print(std(cx))\n",
    "print(std(pmx))"
   ]
  },
  {
   "cell_type": "code",
   "execution_count": 9,
   "metadata": {},
   "outputs": [
    {
     "name": "stdout",
     "output_type": "stream",
     "text": [
      "ShapiroResult(statistic=0.9866940975189209, pvalue=0.8412769436836243)\n"
     ]
    },
    {
     "data": {
      "image/png": "[encoded data removed]",
      "text/plain": [
       "<Figure size 432x288 with 1 Axes>"
      ]
     },
     "metadata": {
      "needs_background": "light"
     },
     "output_type": "display_data"
    }
   ],
   "source": [
    "print(shapiro(default))\n",
    "padrao = histplot(data=default)\n",
    "plt.savefig(\"default.png\")"
   ]
  },
  {
   "cell_type": "code",
   "execution_count": 10,
   "metadata": {},
   "outputs": [
    {
     "name": "stdout",
     "output_type": "stream",
     "text": [
      "ShapiroResult(statistic=0.9849482774734497, pvalue=0.7693788409233093)\n"
     ]
    },
    {
     "data": {
      "image/png": "[encoded data removed]",
      "text/plain": [
       "<Figure size 432x288 with 1 Axes>"
      ]
     },
     "metadata": {
      "needs_background": "light"
     },
     "output_type": "display_data"
    }
   ],
   "source": [
    "print(shapiro(cx))\n",
    "ciclico = histplot(data=cx)\n",
    "plt.savefig(\"ciclico.png\")"
   ]
  },
  {
   "cell_type": "code",
   "execution_count": 11,
   "metadata": {},
   "outputs": [
    {
     "name": "stdout",
     "output_type": "stream",
     "text": [
      "ShapiroResult(statistic=0.9770034551620483, pvalue=0.4336403012275696)\n"
     ]
    },
    {
     "data": {
      "image/png": "[encoded data removed]",
      "text/plain": [
       "<Figure size 432x288 with 1 Axes>"
      ]
     },
     "metadata": {
      "needs_background": "light"
     },
     "output_type": "display_data"
    }
   ],
   "source": [
    "print(shapiro(pmx))\n",
    "pm = histplot(data=pmx)\n",
    "plt.savefig(\"pmx.png\")"
   ]
  },
  {
   "cell_type": "code",
   "execution_count": 13,
   "metadata": {},
   "outputs": [
    {
     "name": "stdout",
     "output_type": "stream",
     "text": [
      "t_test entre Default e CX\n",
      "Ttest_indResult(statistic=5.8369901761778005, pvalue=6.89155813040658e-08)\n",
      "\n",
      "t_test entre Default e PMX\n",
      "Ttest_indResult(statistic=-1.992028188512304, pvalue=0.04915030695416045)\n",
      "\n",
      "t_test entre CX e PMX\n",
      "Ttest_indResult(statistic=-7.651706502049523, pvalue=1.3933422583369137e-11)\n",
      "\n"
     ]
    }
   ],
   "source": [
    "cruzamentos = {\n",
    "        0: \"Default\",\n",
    "        1: \"CX\",\n",
    "        2: \"PMX\"\n",
    "    }\n",
    "\n",
    "ans = {\n",
    "    0: default,\n",
    "    1: cx,\n",
    "    2: pmx\n",
    "}\n",
    "\n",
    "pairs = list(combinations(list(range(3)), 2))\n",
    "\n",
    "for p in pairs:\n",
    "    print(f't_test entre {cruzamentos[p[0]]} e {cruzamentos[p[1]]}')\n",
    "    print(ttest_ind(ans[p[0]], ans[p[1]]))\n",
    "    print()"
   ]
  },
  {
   "cell_type": "code",
   "execution_count": null,
   "metadata": {},
   "outputs": [],
   "source": []
  },
  {
   "cell_type": "code",
   "execution_count": null,
   "metadata": {},
   "outputs": [],
   "source": []
  }
 ],
 "metadata": {
  "kernelspec": {
   "display_name": "Python 3",
   "language": "python",
   "name": "python3"
  },
  "language_info": {
   "codemirror_mode": {
    "name": "ipython",
    "version": 3
   },
   "file_extension": ".py",
   "mimetype": "text/x-python",
   "name": "python",
   "nbconvert_exporter": "python",
   "pygments_lexer": "ipython3",
   "version": "3.8.3"
  }
 },
 "nbformat": 4,
 "nbformat_minor": 4
}
