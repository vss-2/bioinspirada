{
 "cells": [
  {
   "cell_type": "code",
   "execution_count": 1,
   "metadata": {},
   "outputs": [],
   "source": [
    "import pandas as pd\n",
    "import seaborn as sns\n",
    "import matplotlib.pyplot as plt"
   ]
  },
  {
   "cell_type": "code",
   "execution_count": 2,
   "metadata": {},
   "outputs": [],
   "source": [
    "folders = ['./TestesDefault/teste', './TestesMutacao2GeracionalCX/teste', './TestesGeracionalRoleta/teste', \n",
    "           './TestesMutacao2GeracionalRoletaCX/teste', './TestesPop50/teste', './TestesPop50Roleta/teste',\n",
    "          './TestesRoletaCX/teste', './TestesRoletaPMX/teste']"
   ]
  },
  {
   "cell_type": "code",
   "execution_count": 3,
   "metadata": {},
   "outputs": [],
   "source": [
    "folderName = './TestesMutacao2GeracionalRoletaCX/teste'\n",
    "df0, df1, df2, df3, df4 = [pd.read_csv(folderName + str(i) + '.csv') for i in range(5)]\n",
    "dfl = [df0, df1, df2, df3, df4]\n",
    "\n",
    "result = pd.concat(dfl)\n",
    "result = result.drop('Execução', axis=1)"
   ]
  },
  {
   "cell_type": "code",
   "execution_count": 4,
   "metadata": {},
   "outputs": [
    {
     "data": {
      "text/html": [
       "<div>\n",
       "<style scoped>\n",
       "    .dataframe tbody tr th:only-of-type {\n",
       "        vertical-align: middle;\n",
       "    }\n",
       "\n",
       "    .dataframe tbody tr th {\n",
       "        vertical-align: top;\n",
       "    }\n",
       "\n",
       "    .dataframe thead th {\n",
       "        text-align: right;\n",
       "    }\n",
       "</style>\n",
       "<table border=\"1\" class=\"dataframe\">\n",
       "  <thead>\n",
       "    <tr style=\"text-align: right;\">\n",
       "      <th></th>\n",
       "      <th>Execuções Necessárias</th>\n",
       "      <th>Fitness Médio</th>\n",
       "      <th>Desvio Padrão do Fitness</th>\n",
       "      <th>Número de Indivíduos Convergentes</th>\n",
       "    </tr>\n",
       "  </thead>\n",
       "  <tbody>\n",
       "    <tr>\n",
       "      <th>0</th>\n",
       "      <td>0</td>\n",
       "      <td>0.195589</td>\n",
       "      <td>0.114758</td>\n",
       "      <td>1</td>\n",
       "    </tr>\n",
       "    <tr>\n",
       "      <th>1</th>\n",
       "      <td>0</td>\n",
       "      <td>0.198484</td>\n",
       "      <td>0.103501</td>\n",
       "      <td>1</td>\n",
       "    </tr>\n",
       "    <tr>\n",
       "      <th>2</th>\n",
       "      <td>50</td>\n",
       "      <td>0.190274</td>\n",
       "      <td>0.100645</td>\n",
       "      <td>1</td>\n",
       "    </tr>\n",
       "    <tr>\n",
       "      <th>3</th>\n",
       "      <td>156</td>\n",
       "      <td>0.176187</td>\n",
       "      <td>0.100959</td>\n",
       "      <td>1</td>\n",
       "    </tr>\n",
       "    <tr>\n",
       "      <th>4</th>\n",
       "      <td>0</td>\n",
       "      <td>0.200481</td>\n",
       "      <td>0.110821</td>\n",
       "      <td>1</td>\n",
       "    </tr>\n",
       "    <tr>\n",
       "      <th>...</th>\n",
       "      <td>...</td>\n",
       "      <td>...</td>\n",
       "      <td>...</td>\n",
       "      <td>...</td>\n",
       "    </tr>\n",
       "    <tr>\n",
       "      <th>25</th>\n",
       "      <td>0</td>\n",
       "      <td>0.196890</td>\n",
       "      <td>0.117733</td>\n",
       "      <td>1</td>\n",
       "    </tr>\n",
       "    <tr>\n",
       "      <th>26</th>\n",
       "      <td>154</td>\n",
       "      <td>0.199250</td>\n",
       "      <td>0.109496</td>\n",
       "      <td>1</td>\n",
       "    </tr>\n",
       "    <tr>\n",
       "      <th>27</th>\n",
       "      <td>468</td>\n",
       "      <td>0.180720</td>\n",
       "      <td>0.105698</td>\n",
       "      <td>1</td>\n",
       "    </tr>\n",
       "    <tr>\n",
       "      <th>28</th>\n",
       "      <td>504</td>\n",
       "      <td>0.179160</td>\n",
       "      <td>0.100987</td>\n",
       "      <td>1</td>\n",
       "    </tr>\n",
       "    <tr>\n",
       "      <th>29</th>\n",
       "      <td>25</td>\n",
       "      <td>0.187111</td>\n",
       "      <td>0.104650</td>\n",
       "      <td>1</td>\n",
       "    </tr>\n",
       "  </tbody>\n",
       "</table>\n",
       "<p>150 rows × 4 columns</p>\n",
       "</div>"
      ],
      "text/plain": [
       "    Execuções Necessárias  Fitness Médio  Desvio Padrão do Fitness  \\\n",
       "0                       0       0.195589                  0.114758   \n",
       "1                       0       0.198484                  0.103501   \n",
       "2                      50       0.190274                  0.100645   \n",
       "3                     156       0.176187                  0.100959   \n",
       "4                       0       0.200481                  0.110821   \n",
       "..                    ...            ...                       ...   \n",
       "25                      0       0.196890                  0.117733   \n",
       "26                    154       0.199250                  0.109496   \n",
       "27                    468       0.180720                  0.105698   \n",
       "28                    504       0.179160                  0.100987   \n",
       "29                     25       0.187111                  0.104650   \n",
       "\n",
       "    Número de Indivíduos Convergentes  \n",
       "0                                   1  \n",
       "1                                   1  \n",
       "2                                   1  \n",
       "3                                   1  \n",
       "4                                   1  \n",
       "..                                ...  \n",
       "25                                  1  \n",
       "26                                  1  \n",
       "27                                  1  \n",
       "28                                  1  \n",
       "29                                  1  \n",
       "\n",
       "[150 rows x 4 columns]"
      ]
     },
     "execution_count": 4,
     "metadata": {},
     "output_type": "execute_result"
    }
   ],
   "source": [
    "result"
   ]
  },
  {
   "cell_type": "code",
   "execution_count": 5,
   "metadata": {},
   "outputs": [
    {
     "data": {
      "text/plain": [
       "155"
      ]
     },
     "execution_count": 5,
     "metadata": {},
     "output_type": "execute_result"
    }
   ],
   "source": [
    "sum(result['Número de Indivíduos Convergentes'])"
   ]
  },
  {
   "cell_type": "code",
   "execution_count": 6,
   "metadata": {},
   "outputs": [],
   "source": [
    "def generateDataset(foldername):\n",
    "    df0, df1, df2, df3, df4 = [pd.read_csv(foldername + str(i) + '.csv') for i in range(5)]\n",
    "    dfl = [df0, df1, df2, df3, df4]\n",
    "\n",
    "    result = pd.concat(dfl)\n",
    "    result = result.drop('Execução', axis=1)\n",
    "    return result\n",
    "\n",
    "d, m2gcx, gr, m2grcx, p50, p50r, rcx, rpmx = [generateDataset(name) for name in folders]\n",
    "datasets = [d, m2gcx, gr, m2grcx, p50, p50r, rcx, rpmx]"
   ]
  },
  {
   "cell_type": "code",
   "execution_count": 7,
   "metadata": {},
   "outputs": [],
   "source": [
    "def getDF(column):\n",
    "    \n",
    "    fields = {}\n",
    "\n",
    "    for i, j in zip(folders, datasets):\n",
    "        fields[i[8:-6]] = list(j[column])\n",
    "    df = pd.DataFrame(data=fields)\n",
    "    return df"
   ]
  },
  {
   "cell_type": "code",
   "execution_count": 8,
   "metadata": {},
   "outputs": [],
   "source": [
    "execs = getDF('Execuções Necessárias')"
   ]
  },
  {
   "cell_type": "code",
   "execution_count": 9,
   "metadata": {},
   "outputs": [
    {
     "data": {
      "image/png": "[encoded data removed]",
      "text/plain": [
       "<Figure size 1490.4x595.44 with 1 Axes>"
      ]
     },
     "metadata": {},
     "output_type": "display_data"
    }
   ],
   "source": [
    "sns.set(rc={'figure.figsize':(20.7,8.27)})\n",
    "execsImg = sns.barplot(data=execs)\n",
    "plt.savefig(\"execucoes.png\")"
   ]
  },
  {
   "cell_type": "code",
   "execution_count": null,
   "metadata": {},
   "outputs": [],
   "source": [
    "fitness = getDF('Fitness Médio')"
   ]
  },
  {
   "cell_type": "code",
   "execution_count": null,
   "metadata": {},
   "outputs": [],
   "source": [
    "sns.set(rc={'figure.figsize':(20.7,8.27)})\n",
    "fitImg = sns.barplot(data=fitness)\n",
    "plt.savefig(\"fitness.png\")"
   ]
  },
  {
   "cell_type": "code",
   "execution_count": null,
   "metadata": {},
   "outputs": [],
   "source": [
    "fields = {}\n",
    "\n",
    "for i, j in zip(folders, datasets):\n",
    "    fields[i[8:-6]] = [sum(j['Número de Indivíduos Convergentes'])]\n",
    "sumConvergentes = pd.DataFrame(data=fields)\n",
    "\n",
    "sns.set(rc={'figure.figsize':(20.7,8.27)})\n",
    "convImg = sns.barplot(data=sumConvergentes)\n",
    "plt.savefig(\"convergencias.png\")"
   ]
  },
  {
   "cell_type": "code",
   "execution_count": null,
   "metadata": {},
   "outputs": [],
   "source": []
  }
 ],
 "metadata": {
  "kernelspec": {
   "display_name": "Python 3",
   "language": "python",
   "name": "python3"
  },
  "language_info": {
   "codemirror_mode": {
    "name": "ipython",
    "version": 3
   },
   "file_extension": ".py",
   "mimetype": "text/x-python",
   "name": "python",
   "nbconvert_exporter": "python",
   "pygments_lexer": "ipython3",
   "version": "3.8.3"
  }
 },
 "nbformat": 4,
 "nbformat_minor": 4
}
